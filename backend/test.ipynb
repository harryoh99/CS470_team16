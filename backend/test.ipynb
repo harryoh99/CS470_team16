{
  "nbformat": 4,
  "nbformat_minor": 0,
  "metadata": {
    "colab": {
      "name": "test.ipynb",
      "provenance": [],
      "collapsed_sections": []
    },
    "kernelspec": {
      "name": "python3",
      "display_name": "Python 3"
    },
    "accelerator": "GPU"
  },
  "cells": [
    {
      "cell_type": "code",
      "metadata": {
        "colab": {
          "base_uri": "https://localhost:8080/"
        },
        "id": "xeUBICbXQw3O",
        "outputId": "6545916f-e733-4fe5-b7ad-887fb1c43408"
      },
      "source": [
        "from google.colab import drive\r\n",
        "drive.mount('/gdrive')"
      ],
      "execution_count": null,
      "outputs": [
        {
          "output_type": "stream",
          "text": [
            "Mounted at /gdrive\n"
          ],
          "name": "stdout"
        }
      ]
    },
    {
      "cell_type": "code",
      "metadata": {
        "id": "WqHyxmADRKNU"
      },
      "source": [
        "import numpy as np\r\n",
        "import json \r\n",
        "from PIL import Image\r\n",
        "import torch\r\n",
        "import torch.nn as nn\r\n",
        "from torchvision import transforms\r\n",
        "import os\r\n",
        "import matplotlib.pyplot as plt\r\n",
        "m = nn.Softmax(dim=1)\r\n",
        "from utils import (\r\n",
        "    GlobalParams,\r\n",
        "    BlockArgs,\r\n",
        "    BlockDecoder,\r\n",
        "    efficientnet,\r\n",
        "    get_model_params,\r\n",
        ")\r\n",
        "from model import EfficientNet, VALID_MODELS"
      ],
      "execution_count": null,
      "outputs": []
    },
    {
      "cell_type": "code",
      "metadata": {
        "id": "lqCbMoYzSWdh"
      },
      "source": [
        "!git clone https://github.com/harryoh99/Efficient_Net"
      ],
      "execution_count": null,
      "outputs": []
    },
    {
      "cell_type": "code",
      "metadata": {
        "id": "LxWLiLDUShIy"
      },
      "source": [
        "cd Efficient_Net/"
      ],
      "execution_count": null,
      "outputs": []
    },
    {
      "cell_type": "code",
      "metadata": {
        "id": "NufHX2DBSjVj"
      },
      "source": [
        "pip install -e ."
      ],
      "execution_count": null,
      "outputs": []
    },
    {
      "cell_type": "code",
      "metadata": {
        "id": "O-CT-BQlS05o"
      },
      "source": [
        "def transform_image(image):\r\n",
        "  \"\"\" \r\n",
        "  In this function, make input image to tensor to use model.\r\n",
        "  \"\"\"\r\n",
        "  my_transforms = transforms.Compose([transforms.Resize((224, 224)), \r\n",
        "                                      transforms.ToTensor(), \r\n",
        "                                      transforms.Normalize(mean=[0.485, 0.456, 0.406], std=[0.229, 0.224, 0.225]),])\r\n",
        "  timg = my_transforms(image)\r\n",
        "  timg.unsqueeze_(0)\r\n",
        "  return timg"
      ],
      "execution_count": null,
      "outputs": []
    },
    {
      "cell_type": "code",
      "metadata": {
        "id": "PaVovy3oT3Wg"
      },
      "source": [
        "def test(image):\r\n",
        "  \"\"\"\r\n",
        "  In this function, classify input image with trained model.\r\n",
        "  If probability is lower than 0.8, we guess it as wrong image(return -1).\r\n",
        "  \"\"\"\r\n",
        "  x = transform_image(image)\r\n",
        "  model.eval()\r\n",
        "  output = model(x.to(device))\r\n",
        "  out = m(output)\r\n",
        "  out = out.tolist()[0]\r\n",
        "  if (max(out)<0.95):\r\n",
        "    print(\"wrong: \", max(out))\r\n",
        "    pred = -1\r\n",
        "  else:\r\n",
        "    pred = out.index(max(out))\r\n",
        "  return pred+1, max(out)"
      ],
      "execution_count": null,
      "outputs": []
    },
    {
      "cell_type": "code",
      "metadata": {
        "id": "djW5MuVIUMlH"
      },
      "source": [
        "def show_result(pred, image, prob):\r\n",
        "  \"\"\"\r\n",
        "  Show input image with a result of the test function\r\n",
        "  \"\"\"\r\n",
        "  fig = plt.figure()\r\n",
        "  if pred>0:\r\n",
        "    title = 'predict: ' + str(pred) + '   probability: ' + str(round(prob,3))\r\n",
        "  else:\r\n",
        "    title = 'predict: ' + str(pred)\r\n",
        "  fig1 = fig.add_subplot(1, 1, 1)\r\n",
        "  fig1.set_title(title)\r\n",
        "  fig1.axis(\"off\")\r\n",
        "  plt.imshow(image)\r\n",
        "  fig.tight_layout()    \r\n",
        "  plt.show()"
      ],
      "execution_count": null,
      "outputs": []
    },
    {
      "cell_type": "code",
      "metadata": {
        "colab": {
          "base_uri": "https://localhost:8080/",
          "height": 316
        },
        "id": "QNFZJDOgRZDe",
        "outputId": "28c2be20-86f0-4820-87fe-5deb921ff9e5"
      },
      "source": [
        "#from efficientnet_pytorch import EfficientNet\r\n",
        "\r\n",
        "device = torch.device(\"cuda:0\" if torch.cuda.is_available() else \"cpu\")  # set gpu\r\n",
        "\r\n",
        "model_name = 'efficientnet-b0'  # b5\r\n",
        "image_size = EfficientNet.get_image_size(model_name)\r\n",
        "model = EfficientNet.from_pretrained(model_name, num_classes=15)\r\n",
        "\r\n",
        "model = model.to(device)\r\n",
        "model.load_state_dict(torch.load('/gdrive/MyDrive/CS470/Final_Proj/results/best.pt', map_location=device))\r\n",
        "\r\n",
        "image = Image.open('/gdrive/MyDrive/CS470/Final_Proj/test_data/그림22.png').convert('RGB')\r\n",
        "pred, prob = test(image)\r\n",
        "show_result(pred, image, prob)"
      ],
      "execution_count": null,
      "outputs": [
        {
          "output_type": "stream",
          "text": [
            "Loaded pretrained weights for efficientnet-b0\n"
          ],
          "name": "stdout"
        },
        {
          "output_type": "display_data",
          "data": {
            "image/png": "[encoded data removed]",
            "text/plain": [
              "<Figure size 432x288 with 1 Axes>"
            ]
          },
          "metadata": {
            "tags": [],
            "needs_background": "light"
          }
        }
      ]
    },
    {
      "cell_type": "code",
      "metadata": {
        "id": "zmRRXfpzK35Q"
      },
      "source": [
        ""
      ],
      "execution_count": null,
      "outputs": []
    }
  ]
}