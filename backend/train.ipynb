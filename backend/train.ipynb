{
  "nbformat": 4,
  "nbformat_minor": 0,
  "metadata": {
    "accelerator": "GPU",
    "colab": {
      "name": "train.ipynb",
      "provenance": [],
      "collapsed_sections": []
    },
    "kernelspec": {
      "display_name": "Python 3",
      "name": "python3"
    }
  },
  "cells": [
    {
      "cell_type": "code",
      "metadata": {
        "colab": {
          "base_uri": "https://localhost:8080/"
        },
        "id": "DssoI8gGJ48M",
        "outputId": "43308a80-4182-4c3d-fa11-4f926533523f"
      },
      "source": [
        "from google.colab import drive\n",
        "drive.mount('/gdrive')"
      ],
      "execution_count": 1,
      "outputs": [
        {
          "output_type": "stream",
          "text": [
            "Drive already mounted at /gdrive; to attempt to forcibly remount, call drive.mount(\"/gdrive\", force_remount=True).\n"
          ],
          "name": "stdout"
        }
      ]
    },
    {
      "cell_type": "code",
      "metadata": {
        "id": "IF6KZfwgvwcR"
      },
      "source": [
        "import numpy as np\n",
        "import json\n",
        "from PIL import Image\n",
        "import torch\n",
        "import torch.nn as nn\n",
        "import torch.optim as optim\n",
        "from torch.optim import lr_scheduler\n",
        "from torchvision import transforms\n",
        "import matplotlib.pyplot as plt\n",
        "import time\n",
        "import os\n",
        "import copy\n",
        "import random\n"
      ],
      "execution_count": 2,
      "outputs": []
    },
    {
      "cell_type": "code",
      "metadata": {
        "colab": {
          "base_uri": "https://localhost:8080/"
        },
        "id": "wON-bktVukOz",
        "outputId": "02739220-8ea0-4b1b-a984-0da229e1b08b"
      },
      "source": [
        "#DATASET PRE-PROCESSING\n",
        "\n",
        "batch_size  = 32\n",
        "random_seed = 10\n",
        "random.seed(random_seed)\n",
        "torch.manual_seed(random_seed)\n",
        "\n",
        "#Import dataset from the local folder and change it to an appropriate tensor shape. \n",
        "from torchvision import transforms, datasets\n",
        "data_path = '/gdrive/MyDrive/CS470/Final_Proj/Dataset (1)'  \n",
        "foot_dataset = datasets.ImageFolder(data_path, transforms.Compose([\n",
        "                                                    transforms.Resize((224, 224)),\n",
        "                                                    transforms.ToTensor(),\n",
        "                                                    transforms.Normalize(mean=[0.485, 0.456, 0.406], std=[0.229, 0.224, 0.225]),\n",
        "                                                    ]))\n",
        "                            \n",
        "\n",
        "#Splitting the data so that we have a validation set with size = size(dataset)*0.2\n",
        "from sklearn.model_selection import train_test_split\n",
        "from torch.utils.data import Subset\n",
        "train_idx, valid_idx = train_test_split(list(range(len(foot_dataset))), test_size=0.2, random_state=random_seed)\n",
        "datasets = {}\n",
        "datasets['train'] = Subset(foot_dataset, train_idx)\n",
        "datasets['valid'] = Subset(foot_dataset, valid_idx)\n",
        "\n",
        "#Defining the dataloader in order to put data in to the model\n",
        "\n",
        "dataloaders, batch_num = {}, {}\n",
        "dataloaders['train'] = torch.utils.data.DataLoader(datasets['train'], batch_size=batch_size, shuffle=True, num_workers=4)\n",
        "dataloaders['valid'] = torch.utils.data.DataLoader(datasets['valid'], batch_size=batch_size, shuffle=False, num_workers=4)\n",
        "\n",
        "from pathlib import Path\n",
        "root = '/gdrive/MyDrive/CS470/Final_Proj/'\n",
        "data_dir = Path(root) / 'dataloaders'\n",
        "torch.save(dataloaders['train'], data_dir / f'train.pth')\n",
        "torch.save(dataloaders['valid'], data_dir/ f'valid.pth')\n",
        "batch_num['train'], batch_num['valid'] = len(dataloaders['train']), len(dataloaders['valid'])\n",
        "print('batch_size : %d,  tvt : %d / %d' % (batch_size, batch_num['train'], batch_num['valid']))"
      ],
      "execution_count": 3,
      "outputs": [
        {
          "output_type": "stream",
          "text": [
            "batch_size : 32,  tvt : 150 / 38\n"
          ],
          "name": "stdout"
        }
      ]
    },
    {
      "cell_type": "code",
      "metadata": {
        "colab": {
          "base_uri": "https://localhost:8080/"
        },
        "id": "jlgKrUGR7eog",
        "outputId": "973c6d66-a721-4e93-b4b3-0f4f7a8e1134"
      },
      "source": [
        "#Check whether the classes are well assigned.\n",
        "foot_dataset.classes"
      ],
      "execution_count": 4,
      "outputs": [
        {
          "output_type": "execute_result",
          "data": {
            "text/plain": [
              "['0. Foot1',\n",
              " '1. Foot2',\n",
              " '2. Foot3',\n",
              " '3. Foot4',\n",
              " '4. Foot5',\n",
              " '5. Foot6',\n",
              " '6. Foot7',\n",
              " '7. Foot8',\n",
              " '8. Foot9',\n",
              " '9. Foot10',\n",
              " 'a. Foot11',\n",
              " 'b. Foot12',\n",
              " 'c. Foot13',\n",
              " 'd. Foot14',\n",
              " 'e. Foot15']"
            ]
          },
          "metadata": {
            "tags": []
          },
          "execution_count": 4
        }
      ]
    },
    {
      "cell_type": "code",
      "metadata": {
        "colab": {
          "base_uri": "https://localhost:8080/",
          "height": 195
        },
        "id": "XC53wG46L56p",
        "outputId": "f74e66f7-4bc0-4b54-f81f-e38beb272a71"
      },
      "source": [
        "#DATA VALIDATION: CHECKING IF THE DATA is well classified to the desired classes\n",
        "\n",
        "import torchvision\n",
        "\n",
        "#This function gets the input and calls the matplolib plot, with the images.\n",
        "def imshow(x, title=None):\n",
        "    x = x.numpy().transpose((1, 2, 0))\n",
        "    mean = np.array([0.485, 0.456, 0.406])\n",
        "    std = np.array([0.229, 0.224, 0.225])\n",
        "    x = std * x + mean\n",
        "    x = np.clip(x, 0, 1)\n",
        "    plt.imshow(x)\n",
        "    if title is not None:\n",
        "        plt.title(title)\n",
        "    #Prevent Crashing when uploading!\n",
        "    plt.pause(0.1) \n",
        "\n",
        "num_img = 8\n",
        "\n",
        "class_names = {\n",
        "    \"0\": \"1\",      \n",
        "    \"1\": \"2\",  \n",
        "    \"2\": \"3\",  \n",
        "    \"3\": \"4\",  \n",
        "    \"4\": \"5\",  \n",
        "    \"5\": \"6\",   \n",
        "    \"6\": \"7\" ,\n",
        "    \"7\": \"8\" ,\n",
        "    \"8\": \"9\",\n",
        "    \"9\": \"10\",\n",
        "    \"10\": \"11\",\n",
        "    \"11\": \"12\",\n",
        "    \"12\": \"13\",\n",
        "    \"13\": \"14\",\n",
        "    \"14\": \"15\" ,  \n",
        "}\n",
        "\n",
        "# train check\n",
        "inputs, classes = next(iter(dataloaders['train']))\n",
        "out = torchvision.utils.make_grid(inputs[:num_img])  \n",
        "imshow(out, title=[class_names[str(int(x))] for x in classes[:num_img]])\n",
        "# valid check\n",
        "inputs, classes = next(iter(dataloaders['valid']))\n",
        "out = torchvision.utils.make_grid(inputs[:num_img])  \n",
        "imshow(out, title=[class_names[str(int(x))] for x in classes[:num_img]])\n"
      ],
      "execution_count": 5,
      "outputs": [
        {
          "output_type": "display_data",
          "data": {
            "image/png": "[encoded data removed]",
            "text/plain": [
              "<Figure size 432x288 with 1 Axes>"
            ]
          },
          "metadata": {
            "tags": [],
            "needs_background": "light"
          }
        },
        {
          "output_type": "display_data",
          "data": {
            "image/png": "[encoded data removed]",
            "text/plain": [
              "<Figure size 432x288 with 1 Axes>"
            ]
          },
          "metadata": {
            "tags": [],
            "needs_background": "light"
          }
        }
      ]
    },
    {
      "cell_type": "code",
      "metadata": {
        "colab": {
          "base_uri": "https://localhost:8080/"
        },
        "id": "W0_oRRekJ50H",
        "outputId": "5d63ea75-4e8e-434d-c871-afb21f4be3d7"
      },
      "source": [
        "!git clone https://github.com/harryoh99/Efficient_Net\n"
      ],
      "execution_count": 6,
      "outputs": [
        {
          "output_type": "stream",
          "text": [
            "fatal: destination path 'Efficient_Net' already exists and is not an empty directory.\n"
          ],
          "name": "stdout"
        }
      ]
    },
    {
      "cell_type": "code",
      "metadata": {
        "colab": {
          "base_uri": "https://localhost:8080/"
        },
        "id": "e9Fq_A1qNR5E",
        "outputId": "489ac37a-f68c-4f8c-e558-75f55345d01b"
      },
      "source": [
        "cd Efficient_Net/"
      ],
      "execution_count": 7,
      "outputs": [
        {
          "output_type": "stream",
          "text": [
            "/content/Efficient_Net\n"
          ],
          "name": "stdout"
        }
      ]
    },
    {
      "cell_type": "code",
      "metadata": {
        "colab": {
          "base_uri": "https://localhost:8080/"
        },
        "id": "_qEkbHM768gH",
        "outputId": "8e4687bd-85b8-484c-e8b3-1472d7a29186"
      },
      "source": [
        "pip install -e ."
      ],
      "execution_count": 8,
      "outputs": [
        {
          "output_type": "stream",
          "text": [
            "Obtaining file:///content/Efficient_Net\n",
            "Requirement already satisfied: torch in /usr/local/lib/python3.6/dist-packages (from efficientnet-pytorch==0.7.0) (1.7.0+cu101)\n",
            "Requirement already satisfied: typing-extensions in /usr/local/lib/python3.6/dist-packages (from torch->efficientnet-pytorch==0.7.0) (3.7.4.3)\n",
            "Requirement already satisfied: dataclasses in /usr/local/lib/python3.6/dist-packages (from torch->efficientnet-pytorch==0.7.0) (0.8)\n",
            "Requirement already satisfied: numpy in /usr/local/lib/python3.6/dist-packages (from torch->efficientnet-pytorch==0.7.0) (1.18.5)\n",
            "Requirement already satisfied: future in /usr/local/lib/python3.6/dist-packages (from torch->efficientnet-pytorch==0.7.0) (0.16.0)\n",
            "Installing collected packages: efficientnet-pytorch\n",
            "  Found existing installation: efficientnet-pytorch 0.7.0\n",
            "    Can't uninstall 'efficientnet-pytorch'. No files were found to uninstall.\n",
            "  Running setup.py develop for efficientnet-pytorch\n",
            "Successfully installed efficientnet-pytorch\n"
          ],
          "name": "stdout"
        }
      ]
    },
    {
      "cell_type": "code",
      "metadata": {
        "colab": {
          "base_uri": "https://localhost:8080/"
        },
        "id": "eL-5jy7WFFad",
        "outputId": "ffd05c30-978e-4441-8aef-c8aff04e8a8c"
      },
      "source": [
        "from efficientnet_pytorch import EfficientNet\n",
        "\n",
        "#Directory where the model will be saved.\n",
        "result_dir = Path(root) / 'results'\n",
        "result_dir.mkdir(parents=True, exist_ok=True)\n",
        "\n",
        "\n",
        "model_name = 'efficientnet-b0'  # b5\n",
        "image_size = EfficientNet.get_image_size(model_name)\n",
        "#print(image_size) -> 224\n",
        "\n",
        "#Bringing the pre-trained Network (pre-trained by the ImageNet)\n",
        "model = EfficientNet.from_pretrained(model_name, num_classes=15)\n",
        "\n",
        "\n",
        "\n",
        "#Training the Model\n",
        "def train_model(model, criterion, optimizer, scheduler, num_epochs=10):\n",
        "    start_time = time.time()\n",
        "    best_model = copy.deepcopy(model.state_dict())\n",
        "    best_acc = 0.0\n",
        "    train_loss, train_acc, valid_loss, valid_acc = [], [], [], []\n",
        "    \n",
        "    for epoch in range(num_epochs):\n",
        "        print('Epoch {}:'.format(epoch))\n",
        "        print('-----------------------------------------------')\n",
        "\n",
        "        # Each epoch has a training and validation mode\n",
        "        for mode in ['train', 'valid']:\n",
        "            if mode == 'train':\n",
        "                model.train()  # Model will be set to a training mode.\n",
        "            else:\n",
        "                model.eval()   # Model will be set to a test(evaluation mode)->exclude batch norm, dropout etc..\n",
        "\n",
        "            epoch_tot_loss, epoch_tot_acc, cnt = 0.0, 0, 0\n",
        "            \n",
        "            # Iterate over data.\n",
        "            for inputs, labels in dataloaders[mode]:\n",
        "                inputs = inputs.to(device) #gpu\n",
        "                labels = labels.to(device) #gpu\n",
        "\n",
        "                # Initialize Gradient Parameters (to zero)\n",
        "                optimizer.zero_grad()\n",
        "\n",
        "                # Forward Porcess\n",
        "                # Gradient tracking should be only be done when mode==train for fast process\n",
        "                with torch.set_grad_enabled(mode == 'train'):\n",
        "                    outputs = model(inputs)\n",
        "                    _, preds = torch.max(outputs,1)\n",
        "                    loss = criterion(outputs, labels)\n",
        "\n",
        "                    # Backward propogation should be done only when it is training mode.\n",
        "                    if mode == 'train':\n",
        "                        loss.backward()\n",
        "                        optimizer.step()\n",
        "\n",
        "                # Trying to save the loss for ach Epoch\n",
        "                epoch_tot_loss += loss.item() * inputs.size(0)\n",
        "                epoch_tot_acc += torch.sum(preds == labels.data)\n",
        "                cnt += len(labels)\n",
        "            \n",
        "            if mode == 'train':\n",
        "                scheduler.step()\n",
        "            \n",
        "\n",
        "            epoch_loss = float(epoch_tot_loss / cnt)\n",
        "            epoch_acc  = float((epoch_tot_acc.double() / cnt).cpu()*100)\n",
        "            \n",
        "            if mode == 'train':\n",
        "                train_loss.append(epoch_loss)\n",
        "                train_acc.append(epoch_acc)\n",
        "            else:\n",
        "                valid_loss.append(epoch_loss)\n",
        "                valid_acc.append(epoch_acc)\n",
        "            print('{} Loss: {:.2f} Acc: {:.1f}'.format(mode, epoch_loss, epoch_acc))\n",
        "           \n",
        "            # Deep copy the model -> want to save the model that has the best accuracy\n",
        "            # Compare the best accuracy from the previous models\n",
        "            if mode == 'valid' and epoch_acc > best_acc:\n",
        "                best_idx = epoch\n",
        "                best_acc = epoch_acc\n",
        "                best_model = copy.deepcopy(model.state_dict())\n",
        "\n",
        "    time_elapsed = time.time() - start_time\n",
        "    print('Training complete in {:.0f}m {:.0f}s'.format(time_elapsed // 60, time_elapsed % 60))\n",
        "    print('Best valid Acc: %dth Model - %.1f' %(best_idx, best_acc))\n",
        "\n",
        "    #Load best model weights\n",
        "    model.load_state_dict(best_model)\n",
        "    torch.save(model.state_dict(), result_dir / f'best.pt')\n",
        "    print('Model saved')\n",
        "    return model, best_idx, best_acc, train_loss, train_acc, valid_loss, valid_acc"
      ],
      "execution_count": 9,
      "outputs": [
        {
          "output_type": "stream",
          "text": [
            "Loaded pretrained weights for efficientnet-b0\n"
          ],
          "name": "stdout"
        }
      ]
    },
    {
      "cell_type": "code",
      "metadata": {
        "id": "CVr1Yb5uB41u"
      },
      "source": [
        "#Want to see the Results Visualized if the model is actually well classified to the desired classes for the validation sets!\n",
        "\n",
        "def visualize_model(model, class_names,num_images=6):\n",
        "    was_training = model.training\n",
        "    model.eval()\n",
        "    images_so_far = 0\n",
        "    fig = plt.figure()\n",
        "    with torch.no_grad():\n",
        "        for i, (inputs, labels) in enumerate(dataloaders['valid']):\n",
        "            inputs = inputs.to(device)\n",
        "            labels = labels.to(device)\n",
        "\n",
        "            outputs = model(inputs)\n",
        "            _,preds = torch.max(outputs,1)\n",
        "\n",
        "            for j in range(inputs.size()[0]):\n",
        "                images_so_far += 1\n",
        "                ax = plt.subplot(num_images//2, 2, images_so_far)\n",
        "                ax.axis('off')\n",
        "                ax.set_title('predicted: {}'.format(class_names[str(preds[j].item())]))\n",
        "                imshow(inputs.cpu().data[j])\n",
        "\n",
        "                if images_so_far == num_images:\n",
        "                    model.train(mode=was_training)\n",
        "                    return\n",
        "        model.train(mode=was_training)"
      ],
      "execution_count": 10,
      "outputs": []
    },
    {
      "cell_type": "code",
      "metadata": {
        "id": "5FsH4rVlOBNA"
      },
      "source": [
        "torch.cuda.empty_cache()"
      ],
      "execution_count": 11,
      "outputs": []
    },
    {
      "cell_type": "code",
      "metadata": {
        "id": "5eT935mzFeTu"
      },
      "source": [
        "device = torch.device(\"cuda:0\" if torch.cuda.is_available() else \"cpu\")  # set gpu\n",
        "\n",
        "model = model.to(device)\n",
        "\n",
        "criterion = nn.CrossEntropyLoss()\n",
        "\n",
        "optimizer_fin = optim.SGD(model.parameters(),  lr = 0.025, momentum=0.9, weight_decay=1e-4)\n",
        "\n",
        "lmbda = lambda epoch: 0.99\n",
        "exp_lr_scheduler = optim.lr_scheduler.MultiplicativeLR(optimizer_fin, lr_lambda=lmbda)"
      ],
      "execution_count": 12,
      "outputs": []
    },
    {
      "cell_type": "code",
      "metadata": {
        "colab": {
          "base_uri": "https://localhost:8080/",
          "height": 1000
        },
        "id": "NKO81VUPFuI2",
        "outputId": "8d15213f-9f5c-4bef-c966-532bad83aecb"
      },
      "source": [
        "model, best_idx, best_acc, train_loss, train_acc, valid_loss, valid_acc = train_model(model, criterion, optimizer_fin, exp_lr_scheduler, num_epochs=10)\n",
        "visualize_model(model,class_names)"
      ],
      "execution_count": 13,
      "outputs": [
        {
          "output_type": "stream",
          "text": [
            "Epoch 0:\n",
            "-----------------------------------------------\n",
            "train Loss: 0.90 Acc: 66.1\n",
            "valid Loss: 0.68 Acc: 77.0\n",
            "Epoch 1:\n",
            "-----------------------------------------------\n",
            "train Loss: 0.06 Acc: 98.4\n",
            "valid Loss: 0.20 Acc: 92.7\n",
            "Epoch 2:\n",
            "-----------------------------------------------\n",
            "train Loss: 0.02 Acc: 99.4\n",
            "valid Loss: 0.02 Acc: 99.5\n",
            "Epoch 3:\n",
            "-----------------------------------------------\n",
            "train Loss: 0.02 Acc: 99.3\n",
            "valid Loss: 0.32 Acc: 88.9\n",
            "Epoch 4:\n",
            "-----------------------------------------------\n",
            "train Loss: 0.02 Acc: 99.4\n",
            "valid Loss: 0.19 Acc: 95.2\n",
            "Epoch 5:\n",
            "-----------------------------------------------\n",
            "train Loss: 0.01 Acc: 99.7\n",
            "valid Loss: 0.03 Acc: 99.1\n",
            "Epoch 6:\n",
            "-----------------------------------------------\n",
            "train Loss: 0.01 Acc: 99.9\n",
            "valid Loss: 0.00 Acc: 100.0\n",
            "Epoch 7:\n",
            "-----------------------------------------------\n",
            "train Loss: 0.00 Acc: 100.0\n",
            "valid Loss: 0.00 Acc: 100.0\n",
            "Epoch 8:\n",
            "-----------------------------------------------\n",
            "train Loss: 0.00 Acc: 99.9\n",
            "valid Loss: 0.00 Acc: 100.0\n",
            "Epoch 9:\n",
            "-----------------------------------------------\n",
            "train Loss: 0.00 Acc: 99.9\n",
            "valid Loss: 0.00 Acc: 100.0\n",
            "Training complete in 6m 55s\n",
            "Best valid Acc: 6th Model - 100.0\n",
            "Model saved\n"
          ],
          "name": "stdout"
        },
        {
          "output_type": "display_data",
          "data": {
            "image/png": "[encoded data removed]",
            "text/plain": [
              "<Figure size 432x288 with 1 Axes>"
            ]
          },
          "metadata": {
            "tags": [],
            "needs_background": "light"
          }
        },
        {
          "output_type": "display_data",
          "data": {
            "image/png": "[encoded data removed]",
            "text/plain": [
              "<Figure size 432x288 with 1 Axes>"
            ]
          },
          "metadata": {
            "tags": [],
            "needs_background": "light"
          }
        },
        {
          "output_type": "display_data",
          "data": {
            "image/png": "[encoded data removed]",
            "text/plain": [
              "<Figure size 432x288 with 1 Axes>"
            ]
          },
          "metadata": {
            "tags": [],
            "needs_background": "light"
          }
        },
        {
          "output_type": "display_data",
          "data": {
            "image/png": "[encoded data removed]",
            "text/plain": [
              "<Figure size 432x288 with 1 Axes>"
            ]
          },
          "metadata": {
            "tags": [],
            "needs_background": "light"
          }
        },
        {
          "output_type": "display_data",
          "data": {
            "image/png": "[encoded data removed]",
            "text/plain": [
              "<Figure size 432x288 with 1 Axes>"
            ]
          },
          "metadata": {
            "tags": [],
            "needs_background": "light"
          }
        },
        {
          "output_type": "display_data",
          "data": {
            "image/png": "[encoded data removed]",
            "text/plain": [
              "<Figure size 432x288 with 1 Axes>"
            ]
          },
          "metadata": {
            "tags": [],
            "needs_background": "light"
          }
        }
      ]
    },
    {
      "cell_type": "code",
      "metadata": {
        "colab": {
          "base_uri": "https://localhost:8080/",
          "height": 330
        },
        "id": "MzFlOOm8Dh0E",
        "outputId": "3430b616-277c-45fa-c7d4-cb57c6761d38"
      },
      "source": [
        "print('best model : %dth Model - Accuracy: %1.f, Loss: %.1f'%(best_idx, valid_acc[best_idx], valid_loss[best_idx]))\n",
        "fig, ax1 = plt.subplots()\n",
        "\n",
        "ax1.plot(train_acc, 'b-', label ='Training Acc')\n",
        "ax1.plot(valid_acc, 'r-', label = 'Validation Acc')\n",
        "plt.plot(best_idx, valid_acc[best_idx], 'ro')\n",
        "ax1.set_xlabel('epoch')\n",
        "\n",
        "ax1.set_ylabel('acc', color='k')\n",
        "ax1.tick_params('y', colors='k')\n",
        "\n",
        "ax2 = ax1.twinx()\n",
        "ax2.plot(train_loss, 'g-', label = 'Training Loss')\n",
        "ax2.plot(valid_loss, 'k-', label = 'Validation Loss')\n",
        "plt.plot(best_idx, valid_loss[best_idx], 'ro')\n",
        "ax2.set_ylabel('loss', color='k')\n",
        "ax2.tick_params('y', colors='k')\n",
        "\n",
        "fig.tight_layout()\n",
        "fig.legend(bbox_to_anchor=(1.04,0.5), loc=\"center left\", borderaxespad=0)\n",
        "plt.title(\"Result Graph\")\n",
        "plt.show()\n",
        "\n"
      ],
      "execution_count": 14,
      "outputs": [
        {
          "output_type": "stream",
          "text": [
            "best model : 6th Model - Accuracy: 100, Loss: 0.0\n"
          ],
          "name": "stdout"
        },
        {
          "output_type": "display_data",
          "data": {
            "image/png": "[encoded data removed]",
            "text/plain": [
              "<Figure size 432x288 with 2 Axes>"
            ]
          },
          "metadata": {
            "tags": [],
            "needs_background": "light"
          }
        }
      ]
    },
    {
      "cell_type": "code",
      "metadata": {
        "id": "9zcd6Bve8PeG"
      },
      "source": [
        ""
      ],
      "execution_count": 14,
      "outputs": []
    }
  ]
}